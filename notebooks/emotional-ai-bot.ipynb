{
 "cells": [
  {
   "cell_type": "markdown",
   "metadata": {},
   "source": [
    "# Emotional AI Chatbot Using Dorner's Psi Theory\n",
    "\n",
    "This notebook explores the development of an emotional AI chatbot by integrating Dorner's Psi Theory for understanding and simulating emotional responses. It dynamically calculates and displays sadness and anger levels during a conversation, adapting its dialogue accordingly."
   ]
  },
  {
   "cell_type": "markdown",
   "metadata": {},
   "source": [
    "### Step 1:Importing Libraries"
   ]
  },
  {
   "cell_type": "code",
   "execution_count": 36,
   "metadata": {},
   "outputs": [],
   "source": [
    "import logging\n",
    "from typing import Dict\n",
    "from langchain.memory import ConversationBufferMemory\n",
    "from langchain.chat_models import ChatOpenAI\n",
    "from langchain.chains import ConversationChain\n",
    "from flask import Flask, render_template, request, jsonify\n",
    "from langchain.chains import ConversationChain\n",
    "from langchain_core.language_models import BaseLLM\n",
    "from pydantic import Field \n",
    "from langchain_core.outputs import LLMResult \n",
    "import matplotlib.pyplot as plt\n",
    "from openai import OpenAI\n",
    "from dotenv import load_dotenv\n",
    "import os\n",
    "import time"
   ]
  },
  {
   "cell_type": "markdown",
   "metadata": {},
   "source": [
    "### Step 2: Define Emotional Model\n",
    "\n",
    "#### Dorner's Psi Theory Parameters"
   ]
  },
  {
   "cell_type": "code",
   "execution_count": 31,
   "metadata": {},
   "outputs": [],
   "source": [
    "# Valence: Spectrum of attraction vs. aversion (1-7).\n",
    "# Arousal**: Readiness for action (1-7).\n",
    "# Selection Threshold: Ease of intention shifting (1-7).\n",
    "# Resolution**: Perceptual accuracy (1-7).\n",
    "# Goal Directedness**: Stability of motives (1-7).\n",
    "\n",
    "# Emotional State Calculation\n",
    "\n",
    "def calculate_emotional_state(valence: float, arousal: float, selection_threshold: float, resolution: float, goal_directedness: float) -> Dict[str, float]:\n",
    "    \"\"\"\n",
    "    Calculate the anger and sadness levels based on Dorner's Psi Theory parameters.\n",
    "\n",
    "    Parameters:\n",
    "        valence (float): Spectrum of attraction vs. aversion (1-7).\n",
    "        arousal (float): Readiness for action (1-7).\n",
    "        selection_threshold (float): Ease of intention shifting (1-7).\n",
    "        resolution (float): Perceptual accuracy (1-7).\n",
    "        goal_directedness (float): Stability of motives (1-7).\n",
    "\n",
    "    Returns:\n",
    "        dict: Calculated anger and sadness levels.\n",
    "    \"\"\"\n",
    "    # Input validation\n",
    "    if not all(1 <= param <= 7 for param in [valence, arousal, selection_threshold, resolution, goal_directedness]):\n",
    "        raise ValueError(\"All parameters must be between 1 and 7.\")\n",
    "\n",
    "    # Calculate emotional states\n",
    "    anger = max(0, (arousal * (7 - valence) * goal_directedness) / 35)\n",
    "    sadness = max(0, ((7 - arousal) * (7 - goal_directedness)) / 49)\n",
    "\n",
    "    return {\n",
    "        \"anger\": round(min(anger, 5), 2),\n",
    "        \"sadness\": round(min(sadness, 5), 2)\n",
    "    }"
   ]
  },
  {
   "cell_type": "code",
   "execution_count": 32,
   "metadata": {},
   "outputs": [
    {
     "name": "stdout",
     "output_type": "stream",
     "text": [
      "Example Emotion Levels: {'anger': 1.54, 'sadness': 0.08}\n"
     ]
    }
   ],
   "source": [
    "# Test the function with example values\n",
    "example_emotions = calculate_emotional_state(4, 6, 5, 4, 3)\n",
    "print(\"Example Emotion Levels:\", example_emotions)"
   ]
  },
  {
   "cell_type": "markdown",
   "metadata": {},
   "source": [
    "### Step 3: Set Up the Chatbot\n",
    "### Define Chatbot Logic Using OpenRouter and Google Gemini Model"
   ]
  },
  {
   "cell_type": "code",
   "execution_count": 37,
   "metadata": {},
   "outputs": [],
   "source": [
    "# Configure logging for debugging and performance tracking\n",
    "logging.basicConfig(level=logging.INFO, format=\"%(asctime)s - %(levelname)s - %(message)s\")\n",
    "\n",
    "# Load environment variables from .env file\n",
    "load_dotenv()\n",
    "\n",
    "# Initialize LangChain's memory for conversation context\n",
    "memory = ConversationBufferMemory()\n",
    "\n",
    "# Configuration for OpenRouter API\n",
    "OPENROUTER_API_KEY = os.getenv(\"OPENROUTER_API_KEY\")\n",
    "OPENROUTER_BASE_URL = os.getenv(\"OPENROUTER_BASE_URL\")\n",
    "\n",
    "def initialize_chatbot():\n",
    "    \"\"\"Initialize the chatbot using OpenRouter with Google Gemini model.\"\"\"\n",
    "    client = OpenAI(\n",
    "        base_url=OPENROUTER_BASE_URL,\n",
    "        api_key=OPENROUTER_API_KEY,\n",
    "    )\n",
    "\n",
    "    class GeminiWrapper(BaseLLM):\n",
    "        \"\"\"Wrapper for the Google Gemini model using OpenRouter.\"\"\"\n",
    "        \n",
    "        client: OpenAI = Field(...)  # Define 'client' as a field\n",
    "\n",
    "        def __init__(self, client):\n",
    "            super().__init__(client=client)  # Use super to initialize the parent class\n",
    "\n",
    "        def _call(self, prompt: str, stop: None = None) -> str:\n",
    "            \"\"\"Invoke the Gemini model to get a response.\"\"\"\n",
    "            try:\n",
    "                start_time = time.time()\n",
    "                completion = self.client.chat.completions.create(\n",
    "                    model=\"google/gemini-exp-1121:free\",\n",
    "                    messages=[{\"role\": \"user\", \"content\": prompt}]\n",
    "                )\n",
    "                logging.info(f\"Response time: {time.time() - start_time:.2f}s\")\n",
    "                return completion.choices[0].message.content\n",
    "            except Exception as e:\n",
    "                logging.error(f\"Error in API call: {e}\")\n",
    "                return \"Sorry, I encountered an issue while processing your request.\"\n",
    "\n",
    "        def _generate(self, prompts: list[str], stop: None = None) -> LLMResult:\n",
    "            \"\"\"Generate responses for multiple prompts.\"\"\"\n",
    "            generations = []\n",
    "            for prompt in prompts:\n",
    "                try:\n",
    "                    response = self._call(prompt, stop)\n",
    "                    generations.append([{\"text\": response}])\n",
    "                except Exception as e:\n",
    "                    logging.error(f\"Error generating response for prompt '{prompt}': {e}\")\n",
    "                    generations.append([{\"text\": \"An error occurred while processing your request.\"}])\n",
    "            \n",
    "            return LLMResult(generations=generations)\n",
    "\n",
    "        @property\n",
    "        def _identifying_params(self) -> dict:\n",
    "            \"\"\"Return identifying parameters for the LLM.\"\"\"\n",
    "            return {\"model\": \"google/gemini-exp-1121:free\"}\n",
    "\n",
    "        @property\n",
    "        def _llm_type(self) -> str:\n",
    "            \"\"\"Return type of LLM.\"\"\"\n",
    "            return \"GeminiWrapper\"\n",
    "\n",
    "    # Initialize the GeminiWrapper instance\n",
    "    gemini_llm = GeminiWrapper(client)\n",
    "\n",
    "    # Initialize the ConversationChain\n",
    "    chain = ConversationChain(llm=gemini_llm, memory=memory, verbose=True)\n",
    "    return chain\n",
    "\n",
    "chatbot = initialize_chatbot()"
   ]
  },
  {
   "cell_type": "markdown",
   "metadata": {},
   "source": [
    "### Step 4: Simulate a Conversation\n",
    "### Dynamic Emotional Response"
   ]
  },
  {
   "cell_type": "code",
   "execution_count": 38,
   "metadata": {},
   "outputs": [],
   "source": [
    "def generate_chatbot_response(user_input: str, valence: float, arousal: float, selection_threshold: float, resolution: float, goal_directedness: float):\n",
    "    \"\"\"\n",
    "    Generate a chatbot response based on the user's input and Psi Theory parameters.\n",
    "\n",
    "    Parameters:\n",
    "        user_input (str): The user's message.\n",
    "        valence, arousal, selection_threshold, resolution, goal_directedness (float): Emotional parameters.\n",
    "\n",
    "    Returns:\n",
    "        dict: Chatbot response and updated emotional state.\n",
    "    \"\"\"\n",
    "    # Calculate emotions\n",
    "    emotions = calculate_emotional_state(valence, arousal, selection_threshold, resolution, goal_directedness)\n",
    "\n",
    "    # Modify the chatbot's tone based on emotions\n",
    "    if emotions[\"anger\"] > 3:\n",
    "        response_prefix = \"[Assertive Mode] \"\n",
    "    elif emotions[\"sadness\"] > 3:\n",
    "        response_prefix = \"[Empathy Mode] \"\n",
    "    else:\n",
    "        response_prefix = \"[Neutral Mode] \"\n",
    "\n",
    "    # Get chatbot response\n",
    "    response = chatbot.run(user_input)\n",
    "\n",
    "    return {\n",
    "        \"response\": response_prefix + response,\n",
    "        \"emotions\": emotions\n",
    "    }"
   ]
  },
  {
   "cell_type": "markdown",
   "metadata": {},
   "source": [
    "### Step 6: Visualizing Emotional Parameters\n",
    "### Real-Time Emotion Display"
   ]
  },
  {
   "cell_type": "code",
   "execution_count": 39,
   "metadata": {},
   "outputs": [
    {
     "data": {
      "image/png": "[encoded data removed]",
      "text/plain": [
       "<Figure size 640x480 with 1 Axes>"
      ]
     },
     "metadata": {},
     "output_type": "display_data"
    }
   ],
   "source": [
    "def plot_emotions(emotions):\n",
    "    \"\"\"Plot anger and sadness levels as a bar chart.\"\"\"\n",
    "    labels = list(emotions.keys())\n",
    "    levels = list(emotions.values())\n",
    "\n",
    "    plt.bar(labels, levels, color=['red', 'blue'])\n",
    "    plt.ylim(0, 5)\n",
    "    plt.xlabel(\"Emotions\")\n",
    "    plt.ylabel(\"Intensity (1-5)\")\n",
    "    plt.title(\"Emotional State\")\n",
    "    plt.show()\n",
    "\n",
    "# Visualize example emotions\n",
    "plot_emotions(example_emotions)"
   ]
  },
  {
   "cell_type": "markdown",
   "metadata": {},
   "source": [
    "## Step 6: Example Usage\n",
    "\n",
    "### Test Emotional State Calculation and Chatbot Interaction"
   ]
  },
  {
   "cell_type": "code",
   "execution_count": 40,
   "metadata": {},
   "outputs": [
    {
     "name": "stdout",
     "output_type": "stream",
     "text": [
      "Example Emotions: {'anger': 1.54, 'sadness': 0.08}\n"
     ]
    },
    {
     "data": {
      "image/png": "[encoded data removed]",
      "text/plain": [
       "<Figure size 640x480 with 1 Axes>"
      ]
     },
     "metadata": {},
     "output_type": "display_data"
    },
    {
     "name": "stdout",
     "output_type": "stream",
     "text": [
      "\n",
      "\n",
      "\u001b[1m> Entering new ConversationChain chain...\u001b[0m\n",
      "Prompt after formatting:\n",
      "\u001b[32;1m\u001b[1;3mThe following is a friendly conversation between a human and an AI. The AI is talkative and provides lots of specific details from its context. If the AI does not know the answer to a question, it truthfully says it does not know.\n",
      "\n",
      "Current conversation:\n",
      "\n",
      "Human: Why do I feel so upset?\n",
      "AI:\u001b[0m\n"
     ]
    },
    {
     "name": "stderr",
     "output_type": "stream",
     "text": [
      "2025-01-27 16:04:11,014 - INFO - HTTP Request: POST https://openrouter.ai/api/v1/chat/completions \"HTTP/1.1 200 OK\"\n",
      "2025-01-27 16:04:11,448 - INFO - Response time: 1.25s\n",
      "2025-01-27 16:04:11,449 - ERROR - Error in API call: 'NoneType' object is not subscriptable\n"
     ]
    },
    {
     "name": "stdout",
     "output_type": "stream",
     "text": [
      "\n",
      "\u001b[1m> Finished chain.\u001b[0m\n",
      "Chatbot Response: [Neutral Mode] Sorry, I encountered an issue while processing your request.\n",
      "Updated Emotions: {'anger': 1.54, 'sadness': 0.08}\n"
     ]
    }
   ],
   "source": [
    "if __name__ == \"__main__\":\n",
    "    # Test emotional state calculation\n",
    "    try:\n",
    "        example_emotions = calculate_emotional_state(4, 6, 5, 4, 3)\n",
    "        print(\"Example Emotions:\", example_emotions)\n",
    "        plot_emotions(example_emotions)\n",
    "    except ValueError as e:\n",
    "        print(e)\n",
    "\n",
    "    # Simulate a chatbot response\n",
    "    user_input = \"Why do I feel so upset?\"\n",
    "    response_data = generate_chatbot_response(user_input, 4, 6, 5, 4, 3)\n",
    "    print(\"Chatbot Response:\", response_data[\"response\"])\n",
    "    print(\"Updated Emotions:\", response_data[\"emotions\"])"
   ]
  },
  {
   "cell_type": "code",
   "execution_count": null,
   "metadata": {},
   "outputs": [],
   "source": []
  }
 ],
 "metadata": {
  "kernelspec": {
   "display_name": ".venv",
   "language": "python",
   "name": "python3"
  },
  "language_info": {
   "codemirror_mode": {
    "name": "ipython",
    "version": 3
   },
   "file_extension": ".py",
   "mimetype": "text/x-python",
   "name": "python",
   "nbconvert_exporter": "python",
   "pygments_lexer": "ipython3",
   "version": "3.13.1"
  }
 },
 "nbformat": 4,
 "nbformat_minor": 2
}
