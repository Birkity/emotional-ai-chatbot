{
 "cells": [
  {
   "cell_type": "markdown",
   "metadata": {},
   "source": [
    "# Emotional AI Chatbot Using Dorner's Psi Theory\n",
    "\n",
    "This notebook explores the development of an emotional AI chatbot by integrating Dorner's Psi Theory for understanding and simulating emotional responses. It dynamically calculates and displays sadness and anger levels during a conversation, adapting its dialogue accordingly."
   ]
  },
  {
   "cell_type": "markdown",
   "metadata": {},
   "source": [
    "### Step 1:Importing Libraries"
   ]
  },
  {
   "cell_type": "code",
   "execution_count": 5,
   "metadata": {},
   "outputs": [],
   "source": [
    "from langchain.memory import ConversationBufferMemory\n",
    "from langchain.chat_models import ChatOpenAI\n",
    "from langchain.chains import ConversationChain\n",
    "from flask import Flask, render_template, request, jsonify"
   ]
  },
  {
   "cell_type": "markdown",
   "metadata": {},
   "source": [
    "### Step 2: Define Emotional Model\n",
    "\n",
    "#### Dorner's Psi Theory Parameters"
   ]
  },
  {
   "cell_type": "code",
   "execution_count": 9,
   "metadata": {},
   "outputs": [
    {
     "name": "stdout",
     "output_type": "stream",
     "text": [
      "Example Emotion Levels: {'anger': 1.54, 'sadness': 0.08}\n"
     ]
    }
   ],
   "source": [
    "# Valence: Spectrum of attraction vs. aversion (1-7).\n",
    "# Arousal: Readiness for action (1-7).\n",
    "# Selection Threshold: Ease of intention shifting (1-7).\n",
    "# Resolution: Perceptual accuracy (1-7).\n",
    "# Goal Directedness: Stability of motives (1-7).\n",
    "\n",
    "def calculate_emotional_state(valence, arousal, selection_threshold, resolution, goal_directedness):\n",
    "    \"\"\"\n",
    "    Calculate the anger and sadness levels based on Dorner's Psi Theory parameters.\n",
    "    \n",
    "    Parameters:\n",
    "        valence (float): Spectrum of attraction vs. aversion (1-7).\n",
    "        arousal (float): Readiness for action (1-7).\n",
    "        selection_threshold (float): Ease of intention shifting (1-7).\n",
    "        resolution (float): Perceptual accuracy (1-7).\n",
    "        goal_directedness (float): Stability of motives (1-7).\n",
    "    \n",
    "    Returns:\n",
    "        dict: Calculated anger and sadness levels.\n",
    "    \"\"\"\n",
    "    anger = max(0, (arousal * (7 - valence) * goal_directedness) / 35)\n",
    "    sadness = max(0, ((7 - arousal) * (7 - goal_directedness)) / 49)\n",
    "    return {\n",
    "        \"anger\": round(min(anger, 5), 2),\n",
    "        \"sadness\": round(min(sadness, 5), 2)\n",
    "    }\n",
    "\n",
    "# Test the function with example values\n",
    "example_emotions = calculate_emotional_state(4, 6, 5, 4, 3)\n",
    "print(\"Example Emotion Levels:\", example_emotions)"
   ]
  }
 ],
 "metadata": {
  "kernelspec": {
   "display_name": ".venv",
   "language": "python",
   "name": "python3"
  },
  "language_info": {
   "codemirror_mode": {
    "name": "ipython",
    "version": 3
   },
   "file_extension": ".py",
   "mimetype": "text/x-python",
   "name": "python",
   "nbconvert_exporter": "python",
   "pygments_lexer": "ipython3",
   "version": "3.13.1"
  }
 },
 "nbformat": 4,
 "nbformat_minor": 2
}
