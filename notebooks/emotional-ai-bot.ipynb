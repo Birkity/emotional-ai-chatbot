{
 "cells": [
  {
   "cell_type": "markdown",
   "metadata": {},
   "source": [
    "# Emotional AI Chatbot Using Dorner's Psi Theory\n",
    "\n",
    "This notebook implements an emotional AI chatbot based on Dorner’s Psi Theory. The chatbot adapts its dialogue based on emotional parameters (anger and sadness) and allows dynamic behavior control."
   ]
  },
  {
   "cell_type": "markdown",
   "metadata": {},
   "source": [
    "### Introduction to Dorner’s Psi Theory\n",
    " Dorner’s Psi Theory defines six parameters that influence an agent's behavior:\n",
    "- **Valence Level**: Measures attraction (positive) vs. aversion (negative).\n",
    "- **Arousal Level**: Reflects readiness for action.\n",
    "- **Selection Threshold**: Indicates how easily the agent shifts between goals.\n",
    "- **Resolution Level**: Describes the agent’s accuracy in perceiving the world.\n",
    "- **Goal-Directedness**: Represents the stability of the agent's motives.\n",
    "- **Securing Rate**: Refers to the frequency of environment checks.\n",
    "#\n",
    "### Based on these parameters, we calculate two emotional states: **anger** and **sadness**."
   ]
  },
  {
   "cell_type": "code",
   "execution_count": 9,
   "metadata": {},
   "outputs": [],
   "source": [
    "# Load environment variables\n",
    "from dotenv import load_dotenv\n",
    "import os\n",
    "\n",
    "load_dotenv()  # Load .env file\n",
    "\n",
    "OPENROUTER_API_KEY = os.getenv(\"OPENROUTER_API_KEY\")\n",
    "OPENROUTER_BASE_URL = os.getenv(\"OPENROUTER_BASE_URL\")"
   ]
  },
  {
   "cell_type": "markdown",
   "metadata": {},
   "source": [
    "### Emotional State Calculation\n",
    "### Implement functions to calculate anger and sadness based on Psi Theory parameters."
   ]
  },
  {
   "cell_type": "code",
   "execution_count": 10,
   "metadata": {},
   "outputs": [],
   "source": [
    "def calculate_anger(valence, arousal, selection_threshold, resolution_level):\n",
    "    \"\"\"\n",
    "    Calculate anger level based on Psi Theory parameters.\n",
    "    Anger is characterized by:\n",
    "    - Negative valence\n",
    "    - High arousal\n",
    "    - Low resolution level\n",
    "    - High selection threshold\n",
    "    \"\"\"\n",
    "    anger = (1 - valence) * arousal * (1 - resolution_level) * selection_threshold\n",
    "    return min(max(anger, 0), 1)  # Normalize to [0, 1]\n",
    "\n",
    "def calculate_sadness(valence, arousal, goal_directedness):\n",
    "    \"\"\"\n",
    "    Calculate sadness level based on Psi Theory parameters.\n",
    "    Sadness is characterized by:\n",
    "    - Negative valence\n",
    "    - Low arousal\n",
    "    - Low goal-directedness\n",
    "    \"\"\"\n",
    "    sadness = (1 - valence) * (1 - arousal) * (1 - goal_directedness)\n",
    "    return min(max(sadness, 0), 1)  # Normalize to [0, 1]"
   ]
  },
  {
   "cell_type": "code",
   "execution_count": 11,
   "metadata": {},
   "outputs": [
    {
     "name": "stdout",
     "output_type": "stream",
     "text": [
      "Anger Level: 0.40\n",
      "Sadness Level: 0.13\n"
     ]
    }
   ],
   "source": [
    "# Test emotional state calculation\n",
    "valence = 0.2  # Negative valence\n",
    "arousal = 0.8  # High arousal\n",
    "selection_threshold = 0.9  # High selection threshold\n",
    "resolution_level = 0.3  # Low resolution level\n",
    "goal_directedness = 0.2  # Low goal-directedness\n",
    "\n",
    "anger_level = calculate_anger(valence, arousal, selection_threshold, resolution_level)\n",
    "sadness_level = calculate_sadness(valence, arousal, goal_directedness)\n",
    "\n",
    "print(f\"Anger Level: {anger_level:.2f}\")\n",
    "print(f\"Sadness Level: {sadness_level:.2f}\")"
   ]
  },
  {
   "cell_type": "markdown",
   "metadata": {},
   "source": [
    "### Adaptive Dialogue\n",
    "### Use LangChain to create a conversational AI that adapts its responses based on emotional states."
   ]
  },
  {
   "cell_type": "code",
   "execution_count": 12,
   "metadata": {},
   "outputs": [
    {
     "name": "stderr",
     "output_type": "stream",
     "text": [
      "C:\\Users\\Ab\\AppData\\Local\\Temp\\ipykernel_10428\\2168704410.py:7: LangChainDeprecationWarning: The class `ChatOpenAI` was deprecated in LangChain 0.0.10 and will be removed in 1.0. An updated version of the class exists in the :class:`~langchain-openai package and should be used instead. To use it run `pip install -U :class:`~langchain-openai` and import as `from :class:`~langchain_openai import ChatOpenAI``.\n",
      "  llm = ChatOpenAI(\n"
     ]
    }
   ],
   "source": [
    "from langchain.chains import ConversationChain\n",
    "from langchain.memory import ConversationBufferMemory\n",
    "from langchain.prompts import PromptTemplate\n",
    "from langchain.chat_models import ChatOpenAI\n",
    "\n",
    "# Initialize LangChain with OpenRouter\n",
    "llm = ChatOpenAI(\n",
    "    openai_api_key=OPENROUTER_API_KEY,\n",
    "    openai_api_base=OPENROUTER_BASE_URL,\n",
    "    model_name=\"gpt-3.5-turbo\"\n",
    ")\n",
    "\n",
    "# Define a prompt template\n",
    "prompt_template = PromptTemplate(\n",
    "    input_variables=[\"input\", \"anger_level\", \"sadness_level\"],\n",
    "    template=\"\"\"\n",
    "    You are an emotional AI chatbot. Your current emotional state is:\n",
    "    - Anger Level: {anger_level}\n",
    "    - Sadness Level: {sadness_level}\n",
    "\n",
    "    Respond to the following input accordingly:\n",
    "    Input: {input}\n",
    "    Response:\n",
    "    \"\"\"\n",
    ")"
   ]
  },
  {
   "cell_type": "code",
   "execution_count": null,
   "metadata": {},
   "outputs": [],
   "source": []
  }
 ],
 "metadata": {
  "kernelspec": {
   "display_name": ".venv",
   "language": "python",
   "name": "python3"
  },
  "language_info": {
   "codemirror_mode": {
    "name": "ipython",
    "version": 3
   },
   "file_extension": ".py",
   "mimetype": "text/x-python",
   "name": "python",
   "nbconvert_exporter": "python",
   "pygments_lexer": "ipython3",
   "version": "3.13.1"
  }
 },
 "nbformat": 4,
 "nbformat_minor": 2
}
